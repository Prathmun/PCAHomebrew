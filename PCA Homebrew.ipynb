{
 "cells": [
  {
   "cell_type": "code",
   "execution_count": 1,
   "id": "controversial-september",
   "metadata": {
    "scrolled": false
   },
   "outputs": [
    {
     "name": "stdout",
     "output_type": "stream",
     "text": [
      "[[1 2 3 4 5]\n",
      " [1 2 3 4 5]\n",
      " [1 2 3 4 5]\n",
      " [1 2 3 4 5]]\n"
     ]
    }
   ],
   "source": [
    "import numpy as np\n",
    "import pandas as pd\n",
    "import matplotlib.pyplot as plt\n",
    "from sklearn.cluster import KMeans\n",
    "from sklearn.decomposition import PCA\n",
    "from matplotlib.colors import ListedColormap\n",
    "print(np.array([[1,2,3,4,5], [1,2,3,4,5],[1,2,3,4,5],[1,2,3,4,5]]))"
   ]
  },
  {
   "cell_type": "code",
   "execution_count": 2,
   "id": "invisible-classification",
   "metadata": {},
   "outputs": [
    {
     "name": "stdout",
     "output_type": "stream",
     "text": [
      "Take the matrix of independent variables X and, for each column, subtract the mean of that column from each entry. (This ensures that each column has a mean of zero.)\n"
     ]
    }
   ],
   "source": [
    "print('Take the matrix of independent variables X and, for each column, subtract the mean of that column from each entry. (This ensures that each column has a mean of zero.)')"
   ]
  },
  {
   "cell_type": "code",
   "execution_count": 3,
   "id": "serious-fight",
   "metadata": {},
   "outputs": [
    {
     "name": "stdout",
     "output_type": "stream",
     "text": [
      "     0   1   2   3   4   5   6\n",
      "0   14  15   8  10  17   8   6\n",
      "1   14   9  12  17  14  15  10\n",
      "2   17   8  12  16  13  19   9\n",
      "3    7  15  18  12   7  15   8\n",
      "4   16   7  12  10  13  13  16\n",
      "5   14  13  12  16  16  12  11\n",
      "6   14   7   5  11  10  13  11\n",
      "7    5   9  13   6   5   7  18\n",
      "8    6   9  12   5  16  11  15\n",
      "9   16  16  15   5  17   9  12\n",
      "10   7   5  16  11  18  13   9\n",
      "11  12  19  13   9  19   8   5\n",
      "12  11   8  19  13  10  17  14\n",
      "13  12  13  18  14  19   7  18\n",
      "14  17  19  10  18   5  17   8\n",
      "15   9   7   5  17  18  17   8\n",
      "16   7   7  15  10  16   5  10\n",
      "17  16   5  12  19   8  18  18\n",
      "18  16  17   7   5  17   9  16\n",
      "19  12  16  15  15  10  15  15\n",
      "20  19  11  15  14  18   8  16\n",
      "21   5  15  13  16  19  16   8\n",
      "22   7  11   7  16  10  17  17\n",
      "23  19  14  16  17  17   5   5\n",
      "24  11  16   6   5  14  18   6\n",
      "25  11  10  14  10   9  12  18\n",
      "26  13   9  11  17  12   6   9\n",
      "27   7   6  17  12   5   7  16\n",
      "28  18  18   7   8   5  19  10\n",
      "29   7  12  16  18  10  13   5\n",
      "0    11.966667\n",
      "1    11.533333\n",
      "2    12.366667\n",
      "3    12.400000\n",
      "4    12.900000\n",
      "5    12.300000\n",
      "6    11.566667\n",
      "dtype: float64\n"
     ]
    }
   ],
   "source": [
    "df= pd.DataFrame(np.random.randint(low=5, high=20, size=(30, 7)))\n",
    "print(df)\n",
    "print(df.mean())\n",
    "z = df - df.mean()\n",
    "zt= z.transpose()"
   ]
  },
  {
   "cell_type": "code",
   "execution_count": 4,
   "id": "massive-while",
   "metadata": {},
   "outputs": [
    {
     "data": {
      "text/html": [
       "<div>\n",
       "<style scoped>\n",
       "    .dataframe tbody tr th:only-of-type {\n",
       "        vertical-align: middle;\n",
       "    }\n",
       "\n",
       "    .dataframe tbody tr th {\n",
       "        vertical-align: top;\n",
       "    }\n",
       "\n",
       "    .dataframe thead th {\n",
       "        text-align: right;\n",
       "    }\n",
       "</style>\n",
       "<table border=\"1\" class=\"dataframe\">\n",
       "  <thead>\n",
       "    <tr style=\"text-align: right;\">\n",
       "      <th></th>\n",
       "      <th>0</th>\n",
       "      <th>1</th>\n",
       "      <th>2</th>\n",
       "      <th>3</th>\n",
       "      <th>4</th>\n",
       "      <th>5</th>\n",
       "      <th>6</th>\n",
       "    </tr>\n",
       "  </thead>\n",
       "  <tbody>\n",
       "    <tr>\n",
       "      <th>0</th>\n",
       "      <td>2.033333</td>\n",
       "      <td>3.466667</td>\n",
       "      <td>-4.366667</td>\n",
       "      <td>-2.4</td>\n",
       "      <td>4.1</td>\n",
       "      <td>-4.3</td>\n",
       "      <td>-5.566667</td>\n",
       "    </tr>\n",
       "    <tr>\n",
       "      <th>1</th>\n",
       "      <td>2.033333</td>\n",
       "      <td>-2.533333</td>\n",
       "      <td>-0.366667</td>\n",
       "      <td>4.6</td>\n",
       "      <td>1.1</td>\n",
       "      <td>2.7</td>\n",
       "      <td>-1.566667</td>\n",
       "    </tr>\n",
       "    <tr>\n",
       "      <th>2</th>\n",
       "      <td>5.033333</td>\n",
       "      <td>-3.533333</td>\n",
       "      <td>-0.366667</td>\n",
       "      <td>3.6</td>\n",
       "      <td>0.1</td>\n",
       "      <td>6.7</td>\n",
       "      <td>-2.566667</td>\n",
       "    </tr>\n",
       "    <tr>\n",
       "      <th>3</th>\n",
       "      <td>-4.966667</td>\n",
       "      <td>3.466667</td>\n",
       "      <td>5.633333</td>\n",
       "      <td>-0.4</td>\n",
       "      <td>-5.9</td>\n",
       "      <td>2.7</td>\n",
       "      <td>-3.566667</td>\n",
       "    </tr>\n",
       "    <tr>\n",
       "      <th>4</th>\n",
       "      <td>4.033333</td>\n",
       "      <td>-4.533333</td>\n",
       "      <td>-0.366667</td>\n",
       "      <td>-2.4</td>\n",
       "      <td>0.1</td>\n",
       "      <td>0.7</td>\n",
       "      <td>4.433333</td>\n",
       "    </tr>\n",
       "    <tr>\n",
       "      <th>5</th>\n",
       "      <td>2.033333</td>\n",
       "      <td>1.466667</td>\n",
       "      <td>-0.366667</td>\n",
       "      <td>3.6</td>\n",
       "      <td>3.1</td>\n",
       "      <td>-0.3</td>\n",
       "      <td>-0.566667</td>\n",
       "    </tr>\n",
       "    <tr>\n",
       "      <th>6</th>\n",
       "      <td>2.033333</td>\n",
       "      <td>-4.533333</td>\n",
       "      <td>-7.366667</td>\n",
       "      <td>-1.4</td>\n",
       "      <td>-2.9</td>\n",
       "      <td>0.7</td>\n",
       "      <td>-0.566667</td>\n",
       "    </tr>\n",
       "    <tr>\n",
       "      <th>7</th>\n",
       "      <td>-6.966667</td>\n",
       "      <td>-2.533333</td>\n",
       "      <td>0.633333</td>\n",
       "      <td>-6.4</td>\n",
       "      <td>-7.9</td>\n",
       "      <td>-5.3</td>\n",
       "      <td>6.433333</td>\n",
       "    </tr>\n",
       "    <tr>\n",
       "      <th>8</th>\n",
       "      <td>-5.966667</td>\n",
       "      <td>-2.533333</td>\n",
       "      <td>-0.366667</td>\n",
       "      <td>-7.4</td>\n",
       "      <td>3.1</td>\n",
       "      <td>-1.3</td>\n",
       "      <td>3.433333</td>\n",
       "    </tr>\n",
       "    <tr>\n",
       "      <th>9</th>\n",
       "      <td>4.033333</td>\n",
       "      <td>4.466667</td>\n",
       "      <td>2.633333</td>\n",
       "      <td>-7.4</td>\n",
       "      <td>4.1</td>\n",
       "      <td>-3.3</td>\n",
       "      <td>0.433333</td>\n",
       "    </tr>\n",
       "    <tr>\n",
       "      <th>10</th>\n",
       "      <td>-4.966667</td>\n",
       "      <td>-6.533333</td>\n",
       "      <td>3.633333</td>\n",
       "      <td>-1.4</td>\n",
       "      <td>5.1</td>\n",
       "      <td>0.7</td>\n",
       "      <td>-2.566667</td>\n",
       "    </tr>\n",
       "    <tr>\n",
       "      <th>11</th>\n",
       "      <td>0.033333</td>\n",
       "      <td>7.466667</td>\n",
       "      <td>0.633333</td>\n",
       "      <td>-3.4</td>\n",
       "      <td>6.1</td>\n",
       "      <td>-4.3</td>\n",
       "      <td>-6.566667</td>\n",
       "    </tr>\n",
       "    <tr>\n",
       "      <th>12</th>\n",
       "      <td>-0.966667</td>\n",
       "      <td>-3.533333</td>\n",
       "      <td>6.633333</td>\n",
       "      <td>0.6</td>\n",
       "      <td>-2.9</td>\n",
       "      <td>4.7</td>\n",
       "      <td>2.433333</td>\n",
       "    </tr>\n",
       "    <tr>\n",
       "      <th>13</th>\n",
       "      <td>0.033333</td>\n",
       "      <td>1.466667</td>\n",
       "      <td>5.633333</td>\n",
       "      <td>1.6</td>\n",
       "      <td>6.1</td>\n",
       "      <td>-5.3</td>\n",
       "      <td>6.433333</td>\n",
       "    </tr>\n",
       "    <tr>\n",
       "      <th>14</th>\n",
       "      <td>5.033333</td>\n",
       "      <td>7.466667</td>\n",
       "      <td>-2.366667</td>\n",
       "      <td>5.6</td>\n",
       "      <td>-7.9</td>\n",
       "      <td>4.7</td>\n",
       "      <td>-3.566667</td>\n",
       "    </tr>\n",
       "    <tr>\n",
       "      <th>15</th>\n",
       "      <td>-2.966667</td>\n",
       "      <td>-4.533333</td>\n",
       "      <td>-7.366667</td>\n",
       "      <td>4.6</td>\n",
       "      <td>5.1</td>\n",
       "      <td>4.7</td>\n",
       "      <td>-3.566667</td>\n",
       "    </tr>\n",
       "    <tr>\n",
       "      <th>16</th>\n",
       "      <td>-4.966667</td>\n",
       "      <td>-4.533333</td>\n",
       "      <td>2.633333</td>\n",
       "      <td>-2.4</td>\n",
       "      <td>3.1</td>\n",
       "      <td>-7.3</td>\n",
       "      <td>-1.566667</td>\n",
       "    </tr>\n",
       "    <tr>\n",
       "      <th>17</th>\n",
       "      <td>4.033333</td>\n",
       "      <td>-6.533333</td>\n",
       "      <td>-0.366667</td>\n",
       "      <td>6.6</td>\n",
       "      <td>-4.9</td>\n",
       "      <td>5.7</td>\n",
       "      <td>6.433333</td>\n",
       "    </tr>\n",
       "    <tr>\n",
       "      <th>18</th>\n",
       "      <td>4.033333</td>\n",
       "      <td>5.466667</td>\n",
       "      <td>-5.366667</td>\n",
       "      <td>-7.4</td>\n",
       "      <td>4.1</td>\n",
       "      <td>-3.3</td>\n",
       "      <td>4.433333</td>\n",
       "    </tr>\n",
       "    <tr>\n",
       "      <th>19</th>\n",
       "      <td>0.033333</td>\n",
       "      <td>4.466667</td>\n",
       "      <td>2.633333</td>\n",
       "      <td>2.6</td>\n",
       "      <td>-2.9</td>\n",
       "      <td>2.7</td>\n",
       "      <td>3.433333</td>\n",
       "    </tr>\n",
       "    <tr>\n",
       "      <th>20</th>\n",
       "      <td>7.033333</td>\n",
       "      <td>-0.533333</td>\n",
       "      <td>2.633333</td>\n",
       "      <td>1.6</td>\n",
       "      <td>5.1</td>\n",
       "      <td>-4.3</td>\n",
       "      <td>4.433333</td>\n",
       "    </tr>\n",
       "    <tr>\n",
       "      <th>21</th>\n",
       "      <td>-6.966667</td>\n",
       "      <td>3.466667</td>\n",
       "      <td>0.633333</td>\n",
       "      <td>3.6</td>\n",
       "      <td>6.1</td>\n",
       "      <td>3.7</td>\n",
       "      <td>-3.566667</td>\n",
       "    </tr>\n",
       "    <tr>\n",
       "      <th>22</th>\n",
       "      <td>-4.966667</td>\n",
       "      <td>-0.533333</td>\n",
       "      <td>-5.366667</td>\n",
       "      <td>3.6</td>\n",
       "      <td>-2.9</td>\n",
       "      <td>4.7</td>\n",
       "      <td>5.433333</td>\n",
       "    </tr>\n",
       "    <tr>\n",
       "      <th>23</th>\n",
       "      <td>7.033333</td>\n",
       "      <td>2.466667</td>\n",
       "      <td>3.633333</td>\n",
       "      <td>4.6</td>\n",
       "      <td>4.1</td>\n",
       "      <td>-7.3</td>\n",
       "      <td>-6.566667</td>\n",
       "    </tr>\n",
       "    <tr>\n",
       "      <th>24</th>\n",
       "      <td>-0.966667</td>\n",
       "      <td>4.466667</td>\n",
       "      <td>-6.366667</td>\n",
       "      <td>-7.4</td>\n",
       "      <td>1.1</td>\n",
       "      <td>5.7</td>\n",
       "      <td>-5.566667</td>\n",
       "    </tr>\n",
       "    <tr>\n",
       "      <th>25</th>\n",
       "      <td>-0.966667</td>\n",
       "      <td>-1.533333</td>\n",
       "      <td>1.633333</td>\n",
       "      <td>-2.4</td>\n",
       "      <td>-3.9</td>\n",
       "      <td>-0.3</td>\n",
       "      <td>6.433333</td>\n",
       "    </tr>\n",
       "    <tr>\n",
       "      <th>26</th>\n",
       "      <td>1.033333</td>\n",
       "      <td>-2.533333</td>\n",
       "      <td>-1.366667</td>\n",
       "      <td>4.6</td>\n",
       "      <td>-0.9</td>\n",
       "      <td>-6.3</td>\n",
       "      <td>-2.566667</td>\n",
       "    </tr>\n",
       "    <tr>\n",
       "      <th>27</th>\n",
       "      <td>-4.966667</td>\n",
       "      <td>-5.533333</td>\n",
       "      <td>4.633333</td>\n",
       "      <td>-0.4</td>\n",
       "      <td>-7.9</td>\n",
       "      <td>-5.3</td>\n",
       "      <td>4.433333</td>\n",
       "    </tr>\n",
       "    <tr>\n",
       "      <th>28</th>\n",
       "      <td>6.033333</td>\n",
       "      <td>6.466667</td>\n",
       "      <td>-5.366667</td>\n",
       "      <td>-4.4</td>\n",
       "      <td>-7.9</td>\n",
       "      <td>6.7</td>\n",
       "      <td>-1.566667</td>\n",
       "    </tr>\n",
       "    <tr>\n",
       "      <th>29</th>\n",
       "      <td>-4.966667</td>\n",
       "      <td>0.466667</td>\n",
       "      <td>3.633333</td>\n",
       "      <td>5.6</td>\n",
       "      <td>-2.9</td>\n",
       "      <td>0.7</td>\n",
       "      <td>-6.566667</td>\n",
       "    </tr>\n",
       "  </tbody>\n",
       "</table>\n",
       "</div>"
      ],
      "text/plain": [
       "           0         1         2    3    4    5         6\n",
       "0   2.033333  3.466667 -4.366667 -2.4  4.1 -4.3 -5.566667\n",
       "1   2.033333 -2.533333 -0.366667  4.6  1.1  2.7 -1.566667\n",
       "2   5.033333 -3.533333 -0.366667  3.6  0.1  6.7 -2.566667\n",
       "3  -4.966667  3.466667  5.633333 -0.4 -5.9  2.7 -3.566667\n",
       "4   4.033333 -4.533333 -0.366667 -2.4  0.1  0.7  4.433333\n",
       "5   2.033333  1.466667 -0.366667  3.6  3.1 -0.3 -0.566667\n",
       "6   2.033333 -4.533333 -7.366667 -1.4 -2.9  0.7 -0.566667\n",
       "7  -6.966667 -2.533333  0.633333 -6.4 -7.9 -5.3  6.433333\n",
       "8  -5.966667 -2.533333 -0.366667 -7.4  3.1 -1.3  3.433333\n",
       "9   4.033333  4.466667  2.633333 -7.4  4.1 -3.3  0.433333\n",
       "10 -4.966667 -6.533333  3.633333 -1.4  5.1  0.7 -2.566667\n",
       "11  0.033333  7.466667  0.633333 -3.4  6.1 -4.3 -6.566667\n",
       "12 -0.966667 -3.533333  6.633333  0.6 -2.9  4.7  2.433333\n",
       "13  0.033333  1.466667  5.633333  1.6  6.1 -5.3  6.433333\n",
       "14  5.033333  7.466667 -2.366667  5.6 -7.9  4.7 -3.566667\n",
       "15 -2.966667 -4.533333 -7.366667  4.6  5.1  4.7 -3.566667\n",
       "16 -4.966667 -4.533333  2.633333 -2.4  3.1 -7.3 -1.566667\n",
       "17  4.033333 -6.533333 -0.366667  6.6 -4.9  5.7  6.433333\n",
       "18  4.033333  5.466667 -5.366667 -7.4  4.1 -3.3  4.433333\n",
       "19  0.033333  4.466667  2.633333  2.6 -2.9  2.7  3.433333\n",
       "20  7.033333 -0.533333  2.633333  1.6  5.1 -4.3  4.433333\n",
       "21 -6.966667  3.466667  0.633333  3.6  6.1  3.7 -3.566667\n",
       "22 -4.966667 -0.533333 -5.366667  3.6 -2.9  4.7  5.433333\n",
       "23  7.033333  2.466667  3.633333  4.6  4.1 -7.3 -6.566667\n",
       "24 -0.966667  4.466667 -6.366667 -7.4  1.1  5.7 -5.566667\n",
       "25 -0.966667 -1.533333  1.633333 -2.4 -3.9 -0.3  6.433333\n",
       "26  1.033333 -2.533333 -1.366667  4.6 -0.9 -6.3 -2.566667\n",
       "27 -4.966667 -5.533333  4.633333 -0.4 -7.9 -5.3  4.433333\n",
       "28  6.033333  6.466667 -5.366667 -4.4 -7.9  6.7 -1.566667\n",
       "29 -4.966667  0.466667  3.633333  5.6 -2.9  0.7 -6.566667"
      ]
     },
     "execution_count": 4,
     "metadata": {},
     "output_type": "execute_result"
    }
   ],
   "source": [
    "z"
   ]
  },
  {
   "cell_type": "code",
   "execution_count": 5,
   "id": "small-keyboard",
   "metadata": {
    "scrolled": true
   },
   "outputs": [
    {
     "data": {
      "text/html": [
       "<div>\n",
       "<style scoped>\n",
       "    .dataframe tbody tr th:only-of-type {\n",
       "        vertical-align: middle;\n",
       "    }\n",
       "\n",
       "    .dataframe tbody tr th {\n",
       "        vertical-align: top;\n",
       "    }\n",
       "\n",
       "    .dataframe thead th {\n",
       "        text-align: right;\n",
       "    }\n",
       "</style>\n",
       "<table border=\"1\" class=\"dataframe\">\n",
       "  <thead>\n",
       "    <tr style=\"text-align: right;\">\n",
       "      <th></th>\n",
       "      <th>0</th>\n",
       "      <th>1</th>\n",
       "      <th>2</th>\n",
       "      <th>3</th>\n",
       "      <th>4</th>\n",
       "      <th>5</th>\n",
       "      <th>6</th>\n",
       "      <th>7</th>\n",
       "      <th>8</th>\n",
       "      <th>9</th>\n",
       "      <th>...</th>\n",
       "      <th>20</th>\n",
       "      <th>21</th>\n",
       "      <th>22</th>\n",
       "      <th>23</th>\n",
       "      <th>24</th>\n",
       "      <th>25</th>\n",
       "      <th>26</th>\n",
       "      <th>27</th>\n",
       "      <th>28</th>\n",
       "      <th>29</th>\n",
       "    </tr>\n",
       "  </thead>\n",
       "  <tbody>\n",
       "    <tr>\n",
       "      <th>0</th>\n",
       "      <td>2.033333</td>\n",
       "      <td>2.033333</td>\n",
       "      <td>5.033333</td>\n",
       "      <td>-4.966667</td>\n",
       "      <td>4.033333</td>\n",
       "      <td>2.033333</td>\n",
       "      <td>2.033333</td>\n",
       "      <td>-6.966667</td>\n",
       "      <td>-5.966667</td>\n",
       "      <td>4.033333</td>\n",
       "      <td>...</td>\n",
       "      <td>7.033333</td>\n",
       "      <td>-6.966667</td>\n",
       "      <td>-4.966667</td>\n",
       "      <td>7.033333</td>\n",
       "      <td>-0.966667</td>\n",
       "      <td>-0.966667</td>\n",
       "      <td>1.033333</td>\n",
       "      <td>-4.966667</td>\n",
       "      <td>6.033333</td>\n",
       "      <td>-4.966667</td>\n",
       "    </tr>\n",
       "    <tr>\n",
       "      <th>1</th>\n",
       "      <td>3.466667</td>\n",
       "      <td>-2.533333</td>\n",
       "      <td>-3.533333</td>\n",
       "      <td>3.466667</td>\n",
       "      <td>-4.533333</td>\n",
       "      <td>1.466667</td>\n",
       "      <td>-4.533333</td>\n",
       "      <td>-2.533333</td>\n",
       "      <td>-2.533333</td>\n",
       "      <td>4.466667</td>\n",
       "      <td>...</td>\n",
       "      <td>-0.533333</td>\n",
       "      <td>3.466667</td>\n",
       "      <td>-0.533333</td>\n",
       "      <td>2.466667</td>\n",
       "      <td>4.466667</td>\n",
       "      <td>-1.533333</td>\n",
       "      <td>-2.533333</td>\n",
       "      <td>-5.533333</td>\n",
       "      <td>6.466667</td>\n",
       "      <td>0.466667</td>\n",
       "    </tr>\n",
       "    <tr>\n",
       "      <th>2</th>\n",
       "      <td>-4.366667</td>\n",
       "      <td>-0.366667</td>\n",
       "      <td>-0.366667</td>\n",
       "      <td>5.633333</td>\n",
       "      <td>-0.366667</td>\n",
       "      <td>-0.366667</td>\n",
       "      <td>-7.366667</td>\n",
       "      <td>0.633333</td>\n",
       "      <td>-0.366667</td>\n",
       "      <td>2.633333</td>\n",
       "      <td>...</td>\n",
       "      <td>2.633333</td>\n",
       "      <td>0.633333</td>\n",
       "      <td>-5.366667</td>\n",
       "      <td>3.633333</td>\n",
       "      <td>-6.366667</td>\n",
       "      <td>1.633333</td>\n",
       "      <td>-1.366667</td>\n",
       "      <td>4.633333</td>\n",
       "      <td>-5.366667</td>\n",
       "      <td>3.633333</td>\n",
       "    </tr>\n",
       "    <tr>\n",
       "      <th>3</th>\n",
       "      <td>-2.400000</td>\n",
       "      <td>4.600000</td>\n",
       "      <td>3.600000</td>\n",
       "      <td>-0.400000</td>\n",
       "      <td>-2.400000</td>\n",
       "      <td>3.600000</td>\n",
       "      <td>-1.400000</td>\n",
       "      <td>-6.400000</td>\n",
       "      <td>-7.400000</td>\n",
       "      <td>-7.400000</td>\n",
       "      <td>...</td>\n",
       "      <td>1.600000</td>\n",
       "      <td>3.600000</td>\n",
       "      <td>3.600000</td>\n",
       "      <td>4.600000</td>\n",
       "      <td>-7.400000</td>\n",
       "      <td>-2.400000</td>\n",
       "      <td>4.600000</td>\n",
       "      <td>-0.400000</td>\n",
       "      <td>-4.400000</td>\n",
       "      <td>5.600000</td>\n",
       "    </tr>\n",
       "    <tr>\n",
       "      <th>4</th>\n",
       "      <td>4.100000</td>\n",
       "      <td>1.100000</td>\n",
       "      <td>0.100000</td>\n",
       "      <td>-5.900000</td>\n",
       "      <td>0.100000</td>\n",
       "      <td>3.100000</td>\n",
       "      <td>-2.900000</td>\n",
       "      <td>-7.900000</td>\n",
       "      <td>3.100000</td>\n",
       "      <td>4.100000</td>\n",
       "      <td>...</td>\n",
       "      <td>5.100000</td>\n",
       "      <td>6.100000</td>\n",
       "      <td>-2.900000</td>\n",
       "      <td>4.100000</td>\n",
       "      <td>1.100000</td>\n",
       "      <td>-3.900000</td>\n",
       "      <td>-0.900000</td>\n",
       "      <td>-7.900000</td>\n",
       "      <td>-7.900000</td>\n",
       "      <td>-2.900000</td>\n",
       "    </tr>\n",
       "    <tr>\n",
       "      <th>5</th>\n",
       "      <td>-4.300000</td>\n",
       "      <td>2.700000</td>\n",
       "      <td>6.700000</td>\n",
       "      <td>2.700000</td>\n",
       "      <td>0.700000</td>\n",
       "      <td>-0.300000</td>\n",
       "      <td>0.700000</td>\n",
       "      <td>-5.300000</td>\n",
       "      <td>-1.300000</td>\n",
       "      <td>-3.300000</td>\n",
       "      <td>...</td>\n",
       "      <td>-4.300000</td>\n",
       "      <td>3.700000</td>\n",
       "      <td>4.700000</td>\n",
       "      <td>-7.300000</td>\n",
       "      <td>5.700000</td>\n",
       "      <td>-0.300000</td>\n",
       "      <td>-6.300000</td>\n",
       "      <td>-5.300000</td>\n",
       "      <td>6.700000</td>\n",
       "      <td>0.700000</td>\n",
       "    </tr>\n",
       "    <tr>\n",
       "      <th>6</th>\n",
       "      <td>-5.566667</td>\n",
       "      <td>-1.566667</td>\n",
       "      <td>-2.566667</td>\n",
       "      <td>-3.566667</td>\n",
       "      <td>4.433333</td>\n",
       "      <td>-0.566667</td>\n",
       "      <td>-0.566667</td>\n",
       "      <td>6.433333</td>\n",
       "      <td>3.433333</td>\n",
       "      <td>0.433333</td>\n",
       "      <td>...</td>\n",
       "      <td>4.433333</td>\n",
       "      <td>-3.566667</td>\n",
       "      <td>5.433333</td>\n",
       "      <td>-6.566667</td>\n",
       "      <td>-5.566667</td>\n",
       "      <td>6.433333</td>\n",
       "      <td>-2.566667</td>\n",
       "      <td>4.433333</td>\n",
       "      <td>-1.566667</td>\n",
       "      <td>-6.566667</td>\n",
       "    </tr>\n",
       "  </tbody>\n",
       "</table>\n",
       "<p>7 rows × 30 columns</p>\n",
       "</div>"
      ],
      "text/plain": [
       "         0         1         2         3         4         5         6   \\\n",
       "0  2.033333  2.033333  5.033333 -4.966667  4.033333  2.033333  2.033333   \n",
       "1  3.466667 -2.533333 -3.533333  3.466667 -4.533333  1.466667 -4.533333   \n",
       "2 -4.366667 -0.366667 -0.366667  5.633333 -0.366667 -0.366667 -7.366667   \n",
       "3 -2.400000  4.600000  3.600000 -0.400000 -2.400000  3.600000 -1.400000   \n",
       "4  4.100000  1.100000  0.100000 -5.900000  0.100000  3.100000 -2.900000   \n",
       "5 -4.300000  2.700000  6.700000  2.700000  0.700000 -0.300000  0.700000   \n",
       "6 -5.566667 -1.566667 -2.566667 -3.566667  4.433333 -0.566667 -0.566667   \n",
       "\n",
       "         7         8         9   ...        20        21        22        23  \\\n",
       "0 -6.966667 -5.966667  4.033333  ...  7.033333 -6.966667 -4.966667  7.033333   \n",
       "1 -2.533333 -2.533333  4.466667  ... -0.533333  3.466667 -0.533333  2.466667   \n",
       "2  0.633333 -0.366667  2.633333  ...  2.633333  0.633333 -5.366667  3.633333   \n",
       "3 -6.400000 -7.400000 -7.400000  ...  1.600000  3.600000  3.600000  4.600000   \n",
       "4 -7.900000  3.100000  4.100000  ...  5.100000  6.100000 -2.900000  4.100000   \n",
       "5 -5.300000 -1.300000 -3.300000  ... -4.300000  3.700000  4.700000 -7.300000   \n",
       "6  6.433333  3.433333  0.433333  ...  4.433333 -3.566667  5.433333 -6.566667   \n",
       "\n",
       "         24        25        26        27        28        29  \n",
       "0 -0.966667 -0.966667  1.033333 -4.966667  6.033333 -4.966667  \n",
       "1  4.466667 -1.533333 -2.533333 -5.533333  6.466667  0.466667  \n",
       "2 -6.366667  1.633333 -1.366667  4.633333 -5.366667  3.633333  \n",
       "3 -7.400000 -2.400000  4.600000 -0.400000 -4.400000  5.600000  \n",
       "4  1.100000 -3.900000 -0.900000 -7.900000 -7.900000 -2.900000  \n",
       "5  5.700000 -0.300000 -6.300000 -5.300000  6.700000  0.700000  \n",
       "6 -5.566667  6.433333 -2.566667  4.433333 -1.566667 -6.566667  \n",
       "\n",
       "[7 rows x 30 columns]"
      ]
     },
     "execution_count": 5,
     "metadata": {},
     "output_type": "execute_result"
    }
   ],
   "source": [
    "zt"
   ]
  },
  {
   "cell_type": "code",
   "execution_count": 6,
   "id": "differential-quantity",
   "metadata": {},
   "outputs": [
    {
     "name": "stdout",
     "output_type": "stream",
     "text": [
      "Take the matrix Z, transpose it, and multiply the transposed matrix by Z. (Writing this out mathematically, we would write this as ZᵀZ.) The resulting matrix is the covariance matrix of Z, up to a constant.\n"
     ]
    }
   ],
   "source": [
    "print('Take the matrix Z, transpose it, and multiply the transposed matrix by Z. (Writing this out mathematically, we would write this as ZᵀZ.) The resulting matrix is the covariance matrix of Z, up to a constant.')"
   ]
  },
  {
   "cell_type": "code",
   "execution_count": 7,
   "id": "southern-timothy",
   "metadata": {},
   "outputs": [
    {
     "name": "stdout",
     "output_type": "stream",
     "text": [
      "            0           1           2      3      4      5           6\n",
      "0  560.966667  149.533333 -102.633333   70.4   42.9   20.3  -22.433333\n",
      "1  149.533333  541.466667  -66.866667 -109.4   49.6   11.2 -197.066667\n",
      "2 -102.633333  -66.866667  462.966667   73.6    3.1 -174.3   75.766667\n",
      "3   70.400000 -109.400000   73.600000  573.2  -50.8  148.4  -93.800000\n",
      "4   42.900000   49.600000    3.100000  -50.8  654.7 -205.1 -155.300000\n",
      "5   20.300000   11.200000 -174.300000  148.4 -205.1  590.3  -46.100000\n",
      "6  -22.433333 -197.066667   75.766667  -93.8 -155.3  -46.1  573.366667\n"
     ]
    }
   ],
   "source": [
    "covariance_matrix = zt.dot(z)\n",
    "print(covariance_matrix)"
   ]
  },
  {
   "cell_type": "code",
   "execution_count": 8,
   "id": "worthy-luther",
   "metadata": {},
   "outputs": [
    {
     "data": {
      "text/plain": [
       "array([[560.96666667,   0.        ,   0.        ,   0.        ,\n",
       "          0.        ,   0.        ,   0.        ],\n",
       "       [  0.        , 541.46666667,   0.        ,   0.        ,\n",
       "          0.        ,   0.        ,   0.        ],\n",
       "       [  0.        ,   0.        , 462.96666667,   0.        ,\n",
       "          0.        ,   0.        ,   0.        ],\n",
       "       [  0.        ,   0.        ,   0.        , 573.2       ,\n",
       "          0.        ,   0.        ,   0.        ],\n",
       "       [  0.        ,   0.        ,   0.        ,   0.        ,\n",
       "        654.7       ,   0.        ,   0.        ],\n",
       "       [  0.        ,   0.        ,   0.        ,   0.        ,\n",
       "          0.        , 590.3       ,   0.        ],\n",
       "       [  0.        ,   0.        ,   0.        ,   0.        ,\n",
       "          0.        ,   0.        , 573.36666667]])"
      ]
     },
     "execution_count": 8,
     "metadata": {},
     "output_type": "execute_result"
    }
   ],
   "source": [
    "D = np.diag(np.diag(covariance_matrix))\n",
    "D"
   ]
  },
  {
   "cell_type": "code",
   "execution_count": 9,
   "id": "super-hartford",
   "metadata": {},
   "outputs": [],
   "source": [
    "a =np.zeros((7, 7), int)"
   ]
  },
  {
   "cell_type": "code",
   "execution_count": 10,
   "id": "unable-sucking",
   "metadata": {
    "scrolled": true
   },
   "outputs": [
    {
     "name": "stdout",
     "output_type": "stream",
     "text": [
      "None\n"
     ]
    }
   ],
   "source": [
    "D2 = np.fill_diagonal(a, D)\n",
    "print(D2)\n"
   ]
  },
  {
   "cell_type": "code",
   "execution_count": 11,
   "id": "harmful-field",
   "metadata": {},
   "outputs": [
    {
     "name": "stdout",
     "output_type": "stream",
     "text": [
      "This is probably the toughest step to follow — stick with me here.) Calculate the eigenvectors and their corresponding eigenvalues of ZᵀZ. This is quite easily done in most computing packages— in fact, the eigendecomposition of ZᵀZ is where we decompose ZᵀZ into PDP⁻¹, where P is the matrix of eigenvectors and D is the diagonal matrix with eigenvalues on the diagonal and values of zero everywhere else. The eigenvalues on the diagonal of D will be associated with the corresponding column in P — that is, the first element of D is λ₁ and the corresponding eigenvector is the first column of P. This holds for all elements in D and their corresponding eigenvectors in P. We will always be able to calculate PDP⁻¹ in this fashion. (Bonus: for those interested, we can always calculate PDP⁻¹ in this fashion because ZᵀZ is a symmetric, positive semidefinite matrix.)\n"
     ]
    }
   ],
   "source": [
    "print('This is probably the toughest step to follow — stick with me here.) Calculate the eigenvectors and their corresponding eigenvalues of ZᵀZ. This is quite easily done in most computing packages— in fact, the eigendecomposition of ZᵀZ is where we decompose ZᵀZ into PDP⁻¹, where P is the matrix of eigenvectors and D is the diagonal matrix with eigenvalues on the diagonal and values of zero everywhere else. The eigenvalues on the diagonal of D will be associated with the corresponding column in P — that is, the first element of D is λ₁ and the corresponding eigenvector is the first column of P. This holds for all elements in D and their corresponding eigenvectors in P. We will always be able to calculate PDP⁻¹ in this fashion. (Bonus: for those interested, we can always calculate PDP⁻¹ in this fashion because ZᵀZ is a symmetric, positive semidefinite matrix.)')"
   ]
  },
  {
   "cell_type": "code",
   "execution_count": 12,
   "id": "synthetic-puppy",
   "metadata": {
    "scrolled": true
   },
   "outputs": [
    {
     "data": {
      "text/plain": [
       "(array([560.96666667, 541.46666667, 462.96666667, 573.2       ,\n",
       "        654.7       , 590.3       , 573.36666667]),\n",
       " array([[1., 0., 0., 0., 0., 0., 0.],\n",
       "        [0., 1., 0., 0., 0., 0., 0.],\n",
       "        [0., 0., 1., 0., 0., 0., 0.],\n",
       "        [0., 0., 0., 1., 0., 0., 0.],\n",
       "        [0., 0., 0., 0., 1., 0., 0.],\n",
       "        [0., 0., 0., 0., 0., 1., 0.],\n",
       "        [0., 0., 0., 0., 0., 0., 1.]]))"
      ]
     },
     "execution_count": 12,
     "metadata": {},
     "output_type": "execute_result"
    }
   ],
   "source": [
    "np.linalg.eig(D)"
   ]
  },
  {
   "cell_type": "code",
   "execution_count": 13,
   "id": "sunrise-wheat",
   "metadata": {},
   "outputs": [],
   "source": [
    "D, P = np.linalg.eig(covariance_matrix)"
   ]
  },
  {
   "cell_type": "code",
   "execution_count": 14,
   "id": "above-creator",
   "metadata": {
    "scrolled": true
   },
   "outputs": [
    {
     "name": "stdout",
     "output_type": "stream",
     "text": [
      "[941.01211991 898.35145869 186.10073555 270.20554284 658.56868109\n",
      " 542.73336351 459.99476507]\n",
      "[[-0.25236084 -0.33350277 -0.35258024 -0.10668102  0.08746355 -0.82468851\n",
      "  -0.04043788]\n",
      " [-0.45889506 -0.28524811  0.43017633  0.36053093  0.31559188  0.03218405\n",
      "   0.54072227]\n",
      " [ 0.10717088  0.37878901 -0.45661089  0.41118317 -0.3386283  -0.10850003\n",
      "   0.583975  ]\n",
      " [ 0.20042577 -0.31178246  0.48842063 -0.01700131 -0.75252581 -0.22564679\n",
      "   0.08103014]\n",
      " [-0.61403476  0.25971931  0.03424172  0.43356577 -0.31553411  0.00400595\n",
      "  -0.51650518]\n",
      " [ 0.30171665 -0.62040001 -0.30937581  0.56516181  0.02913832  0.23222332\n",
      "  -0.23275077]\n",
      " [ 0.45387401  0.33818592  0.38301618  0.42648424  0.33373173 -0.44968944\n",
      "  -0.19349677]]\n"
     ]
    }
   ],
   "source": [
    "print(D)\n",
    "print(P)"
   ]
  },
  {
   "cell_type": "code",
   "execution_count": 15,
   "id": "synthetic-announcement",
   "metadata": {
    "scrolled": true
   },
   "outputs": [
    {
     "name": "stdout",
     "output_type": "stream",
     "text": [
      "[[-0.25236084 -0.45889506  0.10717088  0.20042577 -0.61403476  0.30171665\n",
      "   0.45387401]\n",
      " [-0.33350277 -0.28524811  0.37878901 -0.31178246  0.25971931 -0.62040001\n",
      "   0.33818592]\n",
      " [-0.35258024  0.43017633 -0.45661089  0.48842063  0.03424172 -0.30937581\n",
      "   0.38301618]\n",
      " [-0.10668102  0.36053093  0.41118317 -0.01700131  0.43356577  0.56516181\n",
      "   0.42648424]\n",
      " [ 0.08746355  0.31559188 -0.3386283  -0.75252581 -0.31553411  0.02913832\n",
      "   0.33373173]\n",
      " [-0.82468851  0.03218405 -0.10850003 -0.22564679  0.00400595  0.23222332\n",
      "  -0.44968944]\n",
      " [-0.04043788  0.54072227  0.583975    0.08103014 -0.51650518 -0.23275077\n",
      "  -0.19349677]]\n"
     ]
    }
   ],
   "source": [
    "PInv = np.linalg.inv(P)\n",
    "print(PInv)"
   ]
  },
  {
   "cell_type": "code",
   "execution_count": 16,
   "id": "coordinate-balloon",
   "metadata": {
    "scrolled": true
   },
   "outputs": [
    {
     "data": {
      "text/html": [
       "<div>\n",
       "<style scoped>\n",
       "    .dataframe tbody tr th:only-of-type {\n",
       "        vertical-align: middle;\n",
       "    }\n",
       "\n",
       "    .dataframe tbody tr th {\n",
       "        vertical-align: top;\n",
       "    }\n",
       "\n",
       "    .dataframe thead th {\n",
       "        text-align: right;\n",
       "    }\n",
       "</style>\n",
       "<table border=\"1\" class=\"dataframe\">\n",
       "  <thead>\n",
       "    <tr style=\"text-align: right;\">\n",
       "      <th></th>\n",
       "      <th>0</th>\n",
       "      <th>1</th>\n",
       "      <th>2</th>\n",
       "      <th>3</th>\n",
       "      <th>4</th>\n",
       "      <th>5</th>\n",
       "      <th>6</th>\n",
       "    </tr>\n",
       "  </thead>\n",
       "  <tbody>\n",
       "    <tr>\n",
       "      <th>0</th>\n",
       "      <td>1.000000e+00</td>\n",
       "      <td>4.049470e-17</td>\n",
       "      <td>1.847493e-17</td>\n",
       "      <td>-7.404901e-17</td>\n",
       "      <td>3.045767e-17</td>\n",
       "      <td>-4.817390e-17</td>\n",
       "      <td>-4.576839e-17</td>\n",
       "    </tr>\n",
       "    <tr>\n",
       "      <th>1</th>\n",
       "      <td>-5.164183e-17</td>\n",
       "      <td>1.000000e+00</td>\n",
       "      <td>-4.647312e-17</td>\n",
       "      <td>3.087164e-17</td>\n",
       "      <td>1.779180e-16</td>\n",
       "      <td>-7.890680e-17</td>\n",
       "      <td>-8.631567e-19</td>\n",
       "    </tr>\n",
       "    <tr>\n",
       "      <th>2</th>\n",
       "      <td>-1.334774e-17</td>\n",
       "      <td>7.839337e-17</td>\n",
       "      <td>1.000000e+00</td>\n",
       "      <td>-4.599013e-17</td>\n",
       "      <td>-1.001068e-16</td>\n",
       "      <td>8.665815e-17</td>\n",
       "      <td>4.092496e-17</td>\n",
       "    </tr>\n",
       "    <tr>\n",
       "      <th>3</th>\n",
       "      <td>-4.946590e-17</td>\n",
       "      <td>4.124865e-17</td>\n",
       "      <td>8.056258e-17</td>\n",
       "      <td>1.000000e+00</td>\n",
       "      <td>-1.253926e-16</td>\n",
       "      <td>-7.569501e-17</td>\n",
       "      <td>-3.582164e-17</td>\n",
       "    </tr>\n",
       "    <tr>\n",
       "      <th>4</th>\n",
       "      <td>1.160934e-17</td>\n",
       "      <td>-3.691689e-17</td>\n",
       "      <td>-2.411704e-17</td>\n",
       "      <td>-4.071316e-18</td>\n",
       "      <td>1.000000e+00</td>\n",
       "      <td>2.649060e-18</td>\n",
       "      <td>4.562558e-17</td>\n",
       "    </tr>\n",
       "    <tr>\n",
       "      <th>5</th>\n",
       "      <td>3.631090e-17</td>\n",
       "      <td>9.098652e-17</td>\n",
       "      <td>1.562491e-16</td>\n",
       "      <td>-4.444767e-17</td>\n",
       "      <td>-6.553076e-17</td>\n",
       "      <td>1.000000e+00</td>\n",
       "      <td>-1.877525e-17</td>\n",
       "    </tr>\n",
       "    <tr>\n",
       "      <th>6</th>\n",
       "      <td>-3.468097e-18</td>\n",
       "      <td>-5.391563e-18</td>\n",
       "      <td>-2.753105e-17</td>\n",
       "      <td>1.837552e-17</td>\n",
       "      <td>-7.093683e-17</td>\n",
       "      <td>1.953505e-17</td>\n",
       "      <td>1.000000e+00</td>\n",
       "    </tr>\n",
       "  </tbody>\n",
       "</table>\n",
       "</div>"
      ],
      "text/plain": [
       "              0             1             2             3             4  \\\n",
       "0  1.000000e+00  4.049470e-17  1.847493e-17 -7.404901e-17  3.045767e-17   \n",
       "1 -5.164183e-17  1.000000e+00 -4.647312e-17  3.087164e-17  1.779180e-16   \n",
       "2 -1.334774e-17  7.839337e-17  1.000000e+00 -4.599013e-17 -1.001068e-16   \n",
       "3 -4.946590e-17  4.124865e-17  8.056258e-17  1.000000e+00 -1.253926e-16   \n",
       "4  1.160934e-17 -3.691689e-17 -2.411704e-17 -4.071316e-18  1.000000e+00   \n",
       "5  3.631090e-17  9.098652e-17  1.562491e-16 -4.444767e-17 -6.553076e-17   \n",
       "6 -3.468097e-18 -5.391563e-18 -2.753105e-17  1.837552e-17 -7.093683e-17   \n",
       "\n",
       "              5             6  \n",
       "0 -4.817390e-17 -4.576839e-17  \n",
       "1 -7.890680e-17 -8.631567e-19  \n",
       "2  8.665815e-17  4.092496e-17  \n",
       "3 -7.569501e-17 -3.582164e-17  \n",
       "4  2.649060e-18  4.562558e-17  \n",
       "5  1.000000e+00 -1.877525e-17  \n",
       "6  1.953505e-17  1.000000e+00  "
      ]
     },
     "execution_count": 16,
     "metadata": {},
     "output_type": "execute_result"
    }
   ],
   "source": [
    "pd.DataFrame(P.dot(PInv))"
   ]
  },
  {
   "cell_type": "code",
   "execution_count": 17,
   "id": "unnecessary-drain",
   "metadata": {
    "scrolled": false
   },
   "outputs": [
    {
     "name": "stdout",
     "output_type": "stream",
     "text": [
      "            0\n",
      "0  941.012120\n",
      "1  898.351459\n",
      "2  186.100736\n",
      "3  270.205543\n",
      "4  658.568681\n",
      "5  542.733364\n",
      "6  459.994765\n"
     ]
    }
   ],
   "source": [
    "D=pd.DataFrame(D)\n",
    "print(D)"
   ]
  },
  {
   "cell_type": "code",
   "execution_count": 18,
   "id": "closed-airline",
   "metadata": {
    "scrolled": true
   },
   "outputs": [
    {
     "name": "stdout",
     "output_type": "stream",
     "text": [
      "          0         1         2         3         4         5         6\n",
      "0 -0.252361 -0.333503 -0.352580 -0.106681  0.087464 -0.824689 -0.040438\n",
      "1 -0.458895 -0.285248  0.430176  0.360531  0.315592  0.032184  0.540722\n",
      "2  0.107171  0.378789 -0.456611  0.411183 -0.338628 -0.108500  0.583975\n",
      "3  0.200426 -0.311782  0.488421 -0.017001 -0.752526 -0.225647  0.081030\n",
      "4 -0.614035  0.259719  0.034242  0.433566 -0.315534  0.004006 -0.516505\n",
      "5  0.301717 -0.620400 -0.309376  0.565162  0.029138  0.232223 -0.232751\n",
      "6  0.453874  0.338186  0.383016  0.426484  0.333732 -0.449689 -0.193497\n"
     ]
    }
   ],
   "source": [
    "P=pd.DataFrame(P)\n",
    "print(P)"
   ]
  },
  {
   "cell_type": "code",
   "execution_count": 19,
   "id": "searching-cycle",
   "metadata": {},
   "outputs": [
    {
     "name": "stdout",
     "output_type": "stream",
     "text": [
      "          0         1         2         3         4         5         6\n",
      "0 -0.252361 -0.333503 -0.352580 -0.106681  0.087464 -0.824689 -0.040438\n",
      "1 -0.458895 -0.285248  0.430176  0.360531  0.315592  0.032184  0.540722\n",
      "2  0.107171  0.378789 -0.456611  0.411183 -0.338628 -0.108500  0.583975\n",
      "3  0.200426 -0.311782  0.488421 -0.017001 -0.752526 -0.225647  0.081030\n",
      "4 -0.614035  0.259719  0.034242  0.433566 -0.315534  0.004006 -0.516505\n",
      "5  0.301717 -0.620400 -0.309376  0.565162  0.029138  0.232223 -0.232751\n",
      "6  0.453874  0.338186  0.383016  0.426484  0.333732 -0.449689 -0.193497\n"
     ]
    }
   ],
   "source": [
    "PT =P.T\n",
    "PT['Eigen_values'] = D\n",
    "PTSorted = PT.sort_values(by='Eigen_values', axis=0, ascending=False)\n",
    "Pstar = PT.T\n",
    "Pstar.drop('Eigen_values', axis=0, inplace=True)\n",
    "print(Pstar)"
   ]
  },
  {
   "cell_type": "code",
   "execution_count": 20,
   "id": "shaped-affiliate",
   "metadata": {},
   "outputs": [
    {
     "name": "stdout",
     "output_type": "stream",
     "text": [
      "Take the eigenvalues λ₁, λ₂, …, λp and sort them from largest to smallest. In doing so, sort the eigenvectors in P accordingly. (For example, if λ₂ is the largest eigenvalue, then take the second column of P and place it in the first column position.) Depending on the computing package, this may be done automatically. Call this sorted matrix of eigenvectors P*. (The columns of P* should be the same as the columns of P, but perhaps in a different order.) Note that these eigenvectors are independent of one another.\n"
     ]
    }
   ],
   "source": [
    "print('Take the eigenvalues λ₁, λ₂, …, λp and sort them from largest to smallest. In doing so, sort the eigenvectors in P accordingly. (For example, if λ₂ is the largest eigenvalue, then take the second column of P and place it in the first column position.) Depending on the computing package, this may be done automatically. Call this sorted matrix of eigenvectors P*. (The columns of P* should be the same as the columns of P, but perhaps in a different order.) Note that these eigenvectors are independent of one another.')"
   ]
  },
  {
   "cell_type": "code",
   "execution_count": 21,
   "id": "fifty-convert",
   "metadata": {},
   "outputs": [
    {
     "name": "stdout",
     "output_type": "stream",
     "text": [
      "            0\n",
      "0  941.012120\n",
      "   898.351459\n",
      "   186.100736\n",
      "   270.205543\n",
      "   658.568681\n",
      "   542.733364\n",
      "   459.994765\n"
     ]
    }
   ],
   "source": [
    "DSorted = D.sort_values(by=0, axis=1, ignore_index=True)\n",
    "print(DSorted)"
   ]
  },
  {
   "cell_type": "code",
   "execution_count": 22,
   "id": "honey-wagner",
   "metadata": {},
   "outputs": [
    {
     "name": "stdout",
     "output_type": "stream",
     "text": [
      "            0\n",
      "0  459.994765\n",
      "   542.733364\n",
      "   658.568681\n",
      "   270.205543\n",
      "   186.100736\n",
      "   898.351459\n",
      "   941.012120\n"
     ]
    }
   ],
   "source": [
    "DescendingD = DSorted[::-1]\n",
    "print(DescendingD)"
   ]
  },
  {
   "cell_type": "code",
   "execution_count": 23,
   "id": "diverse-arthritis",
   "metadata": {},
   "outputs": [
    {
     "name": "stdout",
     "output_type": "stream",
     "text": [
      "            0          1         2         3         4         5         6\n",
      "0   -9.394461  -0.722749  0.934606 -3.748446  1.279875  0.971176 -0.991927\n",
      "1    0.960190  -3.447796 -0.790242 -0.024536 -4.750372 -1.420669 -2.186877\n",
      "2    1.828605  -6.930779 -4.421341  0.712489 -3.952692 -2.326695 -3.150944\n",
      "3    3.004738  -1.487526 -1.928615  1.549594 -0.196931  5.893826  8.441751\n",
      "4    2.704124   1.648368 -2.892092  0.155066  2.320700 -4.721475 -4.095382\n",
      "5   -2.755161  -1.558181  1.821670  1.032720 -3.120230 -2.204633 -0.633273\n",
      "6    2.231809  -3.118019 -0.520041 -5.959974  3.041588 -0.301816 -5.504302\n",
      "7    7.877497   8.693339  1.784703 -3.477721  7.678165  2.883787  2.832286\n",
      "8    0.408402   7.653584 -0.609580  1.771834  4.501266  4.715273 -3.905227\n",
      "9   -7.585049   3.944148 -2.990036  2.486079  5.194154 -2.743197  1.756862\n",
      "10   0.274979   5.355058 -4.427150  1.204304 -5.118488  5.144562 -3.624004\n",
      "11 -12.071834   1.190244  0.274464  0.420604  0.461900  2.890137  3.251169\n",
      "12   6.999730   0.809680 -4.536290  3.983261 -2.033310 -0.186035  1.983951\n",
      "13  -2.181835   8.253583  3.141041  5.207461 -2.578048 -5.051887  1.049154\n",
      "14   0.822240 -12.624791  2.162464 -1.203374  0.823288 -2.253768  6.582151\n",
      "15  -0.370865  -4.739603  2.060766 -1.078856 -5.319799  4.777755 -9.298486\n",
      "16  -1.682197   9.499503 -0.809068 -3.430758 -2.664457  3.227589 -0.506045\n",
      "17  10.912251  -4.311402 -0.308715  0.791941 -2.692391 -6.574957 -3.415777\n",
      "18  -7.085815   1.981332  2.625092  1.263081  9.553699 -3.641770 -3.148203\n",
      "19   2.898817  -2.365543  2.357593  4.378253  0.703806 -1.684681  4.367456\n",
      "20  -3.344080   3.796701  0.072810  1.784710 -1.903893 -9.435979 -1.396533\n",
      "21  -3.291392  -1.465363  3.114807  5.406986 -5.446091  7.463411 -0.503940\n",
      "22   7.309336  -3.178311  6.258201  1.785829  1.370769  2.485263 -3.577230\n",
      "23  -9.296046   0.265834 -0.947303 -3.593895 -6.996253 -5.878959  4.395921\n",
      "24  -5.453473  -6.189312 -2.302841  0.545689  7.010948  7.132875 -2.680984\n",
      "25   5.865755   3.475611  0.186557  1.145973  4.053362 -1.866107  0.808702\n",
      "26  -0.835874   1.232894  2.351832 -6.709110 -4.464116 -2.135812  0.590850\n",
      "27   9.472951   7.850167  0.127061 -4.082920  0.369185  0.249356  4.338318\n",
      "28   0.214185 -11.256017 -1.987386 -0.750830  9.862043 -0.963605  2.586269\n",
      "29   1.562476  -2.254654  0.197030 -1.565452 -6.987679  5.557033  5.634291\n"
     ]
    }
   ],
   "source": [
    "zstar= z.dot(Pstar)\n",
    "print(zstar)"
   ]
  },
  {
   "cell_type": "code",
   "execution_count": 24,
   "id": "informal-latino",
   "metadata": {},
   "outputs": [
    {
     "data": {
      "image/png": "[encoded data removed]",
      "text/plain": [
       "<Figure size 432x288 with 1 Axes>"
      ]
     },
     "metadata": {
      "needs_background": "light"
     },
     "output_type": "display_data"
    }
   ],
   "source": [
    "plt.plot(zstar[0], zstar[1])\n",
    "plt.show()"
   ]
  },
  {
   "cell_type": "code",
   "execution_count": 25,
   "id": "floating-boost",
   "metadata": {},
   "outputs": [
    {
     "data": {
      "image/png": "[encoded data removed]",
      "text/plain": [
       "<Figure size 432x288 with 1 Axes>"
      ]
     },
     "metadata": {
      "needs_background": "light"
     },
     "output_type": "display_data"
    }
   ],
   "source": [
    "kmeans = KMeans(n_clusters=3, random_state=10)\n",
    "\n",
    "cluster_assignments = kmeans.fit_predict(df)\n",
    "\n",
    "cmap= ListedColormap(['red', 'green', 'blue'])\n",
    "\n",
    "pca = PCA(n_components=2, random_state=10)\n",
    "pc1, pc2 = zip(*pca.fit_transform(df))\n",
    "plt.scatter(pc1, pc2, c=cluster_assignments.tolist(), cmap=cmap)\n",
    "plt.show()"
   ]
  },
  {
   "cell_type": "code",
   "execution_count": 27,
   "id": "scenic-matthew",
   "metadata": {},
   "outputs": [
    {
     "data": {
      "image/png": "[encoded data removed]",
      "text/plain": [
       "<Figure size 432x288 with 1 Axes>"
      ]
     },
     "metadata": {
      "needs_background": "light"
     },
     "output_type": "display_data"
    }
   ],
   "source": [
    "cmap= ListedColormap(['red', 'green', 'blue'])\n",
    "\n",
    "pca = PCA(n_components=2, random_state=10)\n",
    "pc1 =zstar[0]\n",
    "pc2 = zstar[1] \n",
    "plt.scatter(pc1, pc2, c=cluster_assignments.tolist(), cmap=cmap)\n",
    "plt.show()"
   ]
  }
 ],
 "metadata": {
  "kernelspec": {
   "display_name": "Python 3",
   "language": "python",
   "name": "python3"
  },
  "language_info": {
   "codemirror_mode": {
    "name": "ipython",
    "version": 3
   },
   "file_extension": ".py",
   "mimetype": "text/x-python",
   "name": "python",
   "nbconvert_exporter": "python",
   "pygments_lexer": "ipython3",
   "version": "3.9.1"
  }
 },
 "nbformat": 4,
 "nbformat_minor": 5
}
