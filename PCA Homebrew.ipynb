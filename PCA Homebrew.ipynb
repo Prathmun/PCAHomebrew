{
 "cells": [
  {
   "cell_type": "code",
   "execution_count": 65,
   "id": "derived-identifier",
   "metadata": {
    "scrolled": false
   },
   "outputs": [
    {
     "name": "stdout",
     "output_type": "stream",
     "text": [
      "[[1 2 3 4 5]\n",
      " [1 2 3 4 5]\n",
      " [1 2 3 4 5]\n",
      " [1 2 3 4 5]]\n"
     ]
    }
   ],
   "source": [
    "import numpy as np\n",
    "import pandas as pd\n",
    "import matplotlib.pyplot as plt\n",
    "\n",
    "print(np.array([[1,2,3,4,5], [1,2,3,4,5],[1,2,3,4,5],[1,2,3,4,5]]))"
   ]
  },
  {
   "cell_type": "code",
   "execution_count": 2,
   "id": "vocational-wildlife",
   "metadata": {},
   "outputs": [
    {
     "name": "stdout",
     "output_type": "stream",
     "text": [
      "Take the matrix of independent variables X and, for each column, subtract the mean of that column from each entry. (This ensures that each column has a mean of zero.)\n"
     ]
    }
   ],
   "source": [
    "print('Take the matrix of independent variables X and, for each column, subtract the mean of that column from each entry. (This ensures that each column has a mean of zero.)')"
   ]
  },
  {
   "cell_type": "code",
   "execution_count": 21,
   "id": "mature-myrtle",
   "metadata": {},
   "outputs": [
    {
     "name": "stdout",
     "output_type": "stream",
     "text": [
      "    0   1   2   3   4   5   6\n",
      "0   9   9  19  13   8  12  13\n",
      "1  12  15   7  10  11  17  16\n",
      "2   7   8  11   6  19   6  10\n",
      "3  12  19  14   6   9   5   6\n",
      "4  13   6  15  15  14  15  12\n",
      "0    10.6\n",
      "1    11.4\n",
      "2    13.2\n",
      "3    10.0\n",
      "4    12.2\n",
      "5    11.0\n",
      "6    11.4\n",
      "dtype: float64\n"
     ]
    }
   ],
   "source": [
    "df= pd.DataFrame(np.random.randint(low=5, high=20, size=(5, 7)))\n",
    "print(df)\n",
    "print(df.mean())\n",
    "z = df - df.mean()\n",
    "zt= z.transpose()"
   ]
  },
  {
   "cell_type": "code",
   "execution_count": 22,
   "id": "pressing-audience",
   "metadata": {},
   "outputs": [
    {
     "data": {
      "text/html": [
       "<div>\n",
       "<style scoped>\n",
       "    .dataframe tbody tr th:only-of-type {\n",
       "        vertical-align: middle;\n",
       "    }\n",
       "\n",
       "    .dataframe tbody tr th {\n",
       "        vertical-align: top;\n",
       "    }\n",
       "\n",
       "    .dataframe thead th {\n",
       "        text-align: right;\n",
       "    }\n",
       "</style>\n",
       "<table border=\"1\" class=\"dataframe\">\n",
       "  <thead>\n",
       "    <tr style=\"text-align: right;\">\n",
       "      <th></th>\n",
       "      <th>0</th>\n",
       "      <th>1</th>\n",
       "      <th>2</th>\n",
       "      <th>3</th>\n",
       "      <th>4</th>\n",
       "      <th>5</th>\n",
       "      <th>6</th>\n",
       "    </tr>\n",
       "  </thead>\n",
       "  <tbody>\n",
       "    <tr>\n",
       "      <th>0</th>\n",
       "      <td>-1.6</td>\n",
       "      <td>-2.4</td>\n",
       "      <td>5.8</td>\n",
       "      <td>3.0</td>\n",
       "      <td>-4.2</td>\n",
       "      <td>1.0</td>\n",
       "      <td>1.6</td>\n",
       "    </tr>\n",
       "    <tr>\n",
       "      <th>1</th>\n",
       "      <td>1.4</td>\n",
       "      <td>3.6</td>\n",
       "      <td>-6.2</td>\n",
       "      <td>0.0</td>\n",
       "      <td>-1.2</td>\n",
       "      <td>6.0</td>\n",
       "      <td>4.6</td>\n",
       "    </tr>\n",
       "    <tr>\n",
       "      <th>2</th>\n",
       "      <td>-3.6</td>\n",
       "      <td>-3.4</td>\n",
       "      <td>-2.2</td>\n",
       "      <td>-4.0</td>\n",
       "      <td>6.8</td>\n",
       "      <td>-5.0</td>\n",
       "      <td>-1.4</td>\n",
       "    </tr>\n",
       "    <tr>\n",
       "      <th>3</th>\n",
       "      <td>1.4</td>\n",
       "      <td>7.6</td>\n",
       "      <td>0.8</td>\n",
       "      <td>-4.0</td>\n",
       "      <td>-3.2</td>\n",
       "      <td>-6.0</td>\n",
       "      <td>-5.4</td>\n",
       "    </tr>\n",
       "    <tr>\n",
       "      <th>4</th>\n",
       "      <td>2.4</td>\n",
       "      <td>-5.4</td>\n",
       "      <td>1.8</td>\n",
       "      <td>5.0</td>\n",
       "      <td>1.8</td>\n",
       "      <td>4.0</td>\n",
       "      <td>0.6</td>\n",
       "    </tr>\n",
       "  </tbody>\n",
       "</table>\n",
       "</div>"
      ],
      "text/plain": [
       "     0    1    2    3    4    5    6\n",
       "0 -1.6 -2.4  5.8  3.0 -4.2  1.0  1.6\n",
       "1  1.4  3.6 -6.2  0.0 -1.2  6.0  4.6\n",
       "2 -3.6 -3.4 -2.2 -4.0  6.8 -5.0 -1.4\n",
       "3  1.4  7.6  0.8 -4.0 -3.2 -6.0 -5.4\n",
       "4  2.4 -5.4  1.8  5.0  1.8  4.0  0.6"
      ]
     },
     "execution_count": 22,
     "metadata": {},
     "output_type": "execute_result"
    }
   ],
   "source": [
    "z"
   ]
  },
  {
   "cell_type": "code",
   "execution_count": 23,
   "id": "pleased-singapore",
   "metadata": {
    "scrolled": true
   },
   "outputs": [
    {
     "data": {
      "text/html": [
       "<div>\n",
       "<style scoped>\n",
       "    .dataframe tbody tr th:only-of-type {\n",
       "        vertical-align: middle;\n",
       "    }\n",
       "\n",
       "    .dataframe tbody tr th {\n",
       "        vertical-align: top;\n",
       "    }\n",
       "\n",
       "    .dataframe thead th {\n",
       "        text-align: right;\n",
       "    }\n",
       "</style>\n",
       "<table border=\"1\" class=\"dataframe\">\n",
       "  <thead>\n",
       "    <tr style=\"text-align: right;\">\n",
       "      <th></th>\n",
       "      <th>0</th>\n",
       "      <th>1</th>\n",
       "      <th>2</th>\n",
       "      <th>3</th>\n",
       "      <th>4</th>\n",
       "    </tr>\n",
       "  </thead>\n",
       "  <tbody>\n",
       "    <tr>\n",
       "      <th>0</th>\n",
       "      <td>-1.6</td>\n",
       "      <td>1.4</td>\n",
       "      <td>-3.6</td>\n",
       "      <td>1.4</td>\n",
       "      <td>2.4</td>\n",
       "    </tr>\n",
       "    <tr>\n",
       "      <th>1</th>\n",
       "      <td>-2.4</td>\n",
       "      <td>3.6</td>\n",
       "      <td>-3.4</td>\n",
       "      <td>7.6</td>\n",
       "      <td>-5.4</td>\n",
       "    </tr>\n",
       "    <tr>\n",
       "      <th>2</th>\n",
       "      <td>5.8</td>\n",
       "      <td>-6.2</td>\n",
       "      <td>-2.2</td>\n",
       "      <td>0.8</td>\n",
       "      <td>1.8</td>\n",
       "    </tr>\n",
       "    <tr>\n",
       "      <th>3</th>\n",
       "      <td>3.0</td>\n",
       "      <td>0.0</td>\n",
       "      <td>-4.0</td>\n",
       "      <td>-4.0</td>\n",
       "      <td>5.0</td>\n",
       "    </tr>\n",
       "    <tr>\n",
       "      <th>4</th>\n",
       "      <td>-4.2</td>\n",
       "      <td>-1.2</td>\n",
       "      <td>6.8</td>\n",
       "      <td>-3.2</td>\n",
       "      <td>1.8</td>\n",
       "    </tr>\n",
       "    <tr>\n",
       "      <th>5</th>\n",
       "      <td>1.0</td>\n",
       "      <td>6.0</td>\n",
       "      <td>-5.0</td>\n",
       "      <td>-6.0</td>\n",
       "      <td>4.0</td>\n",
       "    </tr>\n",
       "    <tr>\n",
       "      <th>6</th>\n",
       "      <td>1.6</td>\n",
       "      <td>4.6</td>\n",
       "      <td>-1.4</td>\n",
       "      <td>-5.4</td>\n",
       "      <td>0.6</td>\n",
       "    </tr>\n",
       "  </tbody>\n",
       "</table>\n",
       "</div>"
      ],
      "text/plain": [
       "     0    1    2    3    4\n",
       "0 -1.6  1.4 -3.6  1.4  2.4\n",
       "1 -2.4  3.6 -3.4  7.6 -5.4\n",
       "2  5.8 -6.2 -2.2  0.8  1.8\n",
       "3  3.0  0.0 -4.0 -4.0  5.0\n",
       "4 -4.2 -1.2  6.8 -3.2  1.8\n",
       "5  1.0  6.0 -5.0 -6.0  4.0\n",
       "6  1.6  4.6 -1.4 -5.4  0.6"
      ]
     },
     "execution_count": 23,
     "metadata": {},
     "output_type": "execute_result"
    }
   ],
   "source": [
    "zt"
   ]
  },
  {
   "cell_type": "code",
   "execution_count": 24,
   "id": "burning-acrylic",
   "metadata": {},
   "outputs": [
    {
     "name": "stdout",
     "output_type": "stream",
     "text": [
      "Take the matrix Z, transpose it, and multiply the transposed matrix by Z. (Writing this out mathematically, we would write this as ZᵀZ.) The resulting matrix is the covariance matrix of Z, up to a constant.\n"
     ]
    }
   ],
   "source": [
    "print('Take the matrix Z, transpose it, and multiply the transposed matrix by Z. (Writing this out mathematically, we would write this as ZᵀZ.) The resulting matrix is the covariance matrix of Z, up to a constant.')"
   ]
  },
  {
   "cell_type": "code",
   "execution_count": 25,
   "id": "swedish-remark",
   "metadata": {},
   "outputs": [
    {
     "name": "stdout",
     "output_type": "stream",
     "text": [
      "      0      1     2     3     4      5     6\n",
      "0  25.2   18.8  -4.6  16.0 -19.6   26.0   2.8\n",
      "1  18.8  117.2 -32.4 -51.0 -51.4  -31.0 -26.8\n",
      "2  -4.6  -32.4  80.8  32.0 -31.2  -18.0 -19.4\n",
      "3  16.0  -51.0  32.0  66.0 -18.0   67.0  35.0\n",
      "4 -19.6  -51.4 -31.2 -18.0  78.8  -19.0  -3.4\n",
      "5  26.0  -31.0 -18.0  67.0 -19.0  114.0  71.0\n",
      "6   2.8  -26.8 -19.4  35.0  -3.4   71.0  55.2\n"
     ]
    }
   ],
   "source": [
    "covariance_matrix = zt.dot(z)\n",
    "print(covariance_matrix)"
   ]
  },
  {
   "cell_type": "code",
   "execution_count": 26,
   "id": "conventional-renewal",
   "metadata": {},
   "outputs": [
    {
     "data": {
      "text/plain": [
       "array([[ 25.2,   0. ,   0. ,   0. ,   0. ,   0. ,   0. ],\n",
       "       [  0. , 117.2,   0. ,   0. ,   0. ,   0. ,   0. ],\n",
       "       [  0. ,   0. ,  80.8,   0. ,   0. ,   0. ,   0. ],\n",
       "       [  0. ,   0. ,   0. ,  66. ,   0. ,   0. ,   0. ],\n",
       "       [  0. ,   0. ,   0. ,   0. ,  78.8,   0. ,   0. ],\n",
       "       [  0. ,   0. ,   0. ,   0. ,   0. , 114. ,   0. ],\n",
       "       [  0. ,   0. ,   0. ,   0. ,   0. ,   0. ,  55.2]])"
      ]
     },
     "execution_count": 26,
     "metadata": {},
     "output_type": "execute_result"
    }
   ],
   "source": [
    "D = np.diag(np.diag(covariance_matrix))\n",
    "D"
   ]
  },
  {
   "cell_type": "code",
   "execution_count": 27,
   "id": "united-convenience",
   "metadata": {},
   "outputs": [],
   "source": [
    "a =np.zeros((7, 7), int)"
   ]
  },
  {
   "cell_type": "code",
   "execution_count": 28,
   "id": "danish-alabama",
   "metadata": {
    "scrolled": true
   },
   "outputs": [
    {
     "name": "stdout",
     "output_type": "stream",
     "text": [
      "None\n"
     ]
    }
   ],
   "source": [
    "D2 = np.fill_diagonal(a, D)\n",
    "print(D2)\n"
   ]
  },
  {
   "cell_type": "code",
   "execution_count": 29,
   "id": "changed-realtor",
   "metadata": {},
   "outputs": [
    {
     "name": "stdout",
     "output_type": "stream",
     "text": [
      "This is probably the toughest step to follow — stick with me here.) Calculate the eigenvectors and their corresponding eigenvalues of ZᵀZ. This is quite easily done in most computing packages— in fact, the eigendecomposition of ZᵀZ is where we decompose ZᵀZ into PDP⁻¹, where P is the matrix of eigenvectors and D is the diagonal matrix with eigenvalues on the diagonal and values of zero everywhere else. The eigenvalues on the diagonal of D will be associated with the corresponding column in P — that is, the first element of D is λ₁ and the corresponding eigenvector is the first column of P. This holds for all elements in D and their corresponding eigenvectors in P. We will always be able to calculate PDP⁻¹ in this fashion. (Bonus: for those interested, we can always calculate PDP⁻¹ in this fashion because ZᵀZ is a symmetric, positive semidefinite matrix.)\n"
     ]
    }
   ],
   "source": [
    "print('This is probably the toughest step to follow — stick with me here.) Calculate the eigenvectors and their corresponding eigenvalues of ZᵀZ. This is quite easily done in most computing packages— in fact, the eigendecomposition of ZᵀZ is where we decompose ZᵀZ into PDP⁻¹, where P is the matrix of eigenvectors and D is the diagonal matrix with eigenvalues on the diagonal and values of zero everywhere else. The eigenvalues on the diagonal of D will be associated with the corresponding column in P — that is, the first element of D is λ₁ and the corresponding eigenvector is the first column of P. This holds for all elements in D and their corresponding eigenvectors in P. We will always be able to calculate PDP⁻¹ in this fashion. (Bonus: for those interested, we can always calculate PDP⁻¹ in this fashion because ZᵀZ is a symmetric, positive semidefinite matrix.)')"
   ]
  },
  {
   "cell_type": "code",
   "execution_count": 30,
   "id": "statistical-jason",
   "metadata": {
    "scrolled": true
   },
   "outputs": [
    {
     "data": {
      "text/plain": [
       "(array([ 25.2, 117.2,  80.8,  66. ,  78.8, 114. ,  55.2]),\n",
       " array([[1., 0., 0., 0., 0., 0., 0.],\n",
       "        [0., 1., 0., 0., 0., 0., 0.],\n",
       "        [0., 0., 1., 0., 0., 0., 0.],\n",
       "        [0., 0., 0., 1., 0., 0., 0.],\n",
       "        [0., 0., 0., 0., 1., 0., 0.],\n",
       "        [0., 0., 0., 0., 0., 1., 0.],\n",
       "        [0., 0., 0., 0., 0., 0., 1.]]))"
      ]
     },
     "execution_count": 30,
     "metadata": {},
     "output_type": "execute_result"
    }
   ],
   "source": [
    "np.linalg.eig(D)"
   ]
  },
  {
   "cell_type": "code",
   "execution_count": 31,
   "id": "marine-medicaid",
   "metadata": {},
   "outputs": [],
   "source": [
    "D, P = np.linalg.eig(covariance_matrix)"
   ]
  },
  {
   "cell_type": "code",
   "execution_count": 32,
   "id": "virtual-raise",
   "metadata": {
    "scrolled": true
   },
   "outputs": [
    {
     "name": "stdout",
     "output_type": "stream",
     "text": [
      "[ 3.55271368e-15+0.00000000e+00j  2.42318538e+01+0.00000000e+00j\n",
      "  2.36534330e+02+0.00000000e+00j  1.52435568e+02+0.00000000e+00j\n",
      "  1.23998248e+02+0.00000000e+00j -2.00171964e-15+1.69142172e-15j\n",
      " -2.00171964e-15-1.69142172e-15j]\n",
      "[[-0.63140818+0.j          0.72255601+0.j         -0.07682539+0.j\n",
      "   0.26911193+0.j         -0.03021844+0.j         -0.46510331-0.01097912j\n",
      "  -0.46510331+0.01097912j]\n",
      " [ 0.23968253+0.j          0.01456622+0.j          0.46001533+0.j\n",
      "   0.66139881+0.j          0.06078585+0.j         -0.04562912+0.16309882j\n",
      "  -0.04562912-0.16309882j]\n",
      " [-0.12055952+0.j         -0.07758233+0.j         -0.07458828+0.j\n",
      "  -0.18274273+0.j         -0.7738086 +0.j         -0.43771936+0.16838304j\n",
      "  -0.43771936-0.16838304j]\n",
      " [ 0.39603504+0.j          0.27018247+0.j         -0.48502207+0.j\n",
      "   0.03610414+0.j         -0.26009732+0.j          0.48297976+0.j\n",
      "   0.48297976-0.j        ]\n",
      " [ 0.09151527+0.j          0.31021859+0.j          0.01290837+0.j\n",
      "  -0.56067986+0.j          0.47949139+0.j         -0.2320429 +0.187001j\n",
      "  -0.2320429 -0.187001j  ]\n",
      " [ 0.29905828+0.j          0.07509782+0.j         -0.61926254+0.j\n",
      "   0.34566679+0.j          0.19963554+0.j         -0.01726004+0.05486822j\n",
      "  -0.01726004-0.05486822j]\n",
      " [-0.52410566+0.j         -0.5448007 +0.j         -0.39751883+0.j\n",
      "   0.14691674+0.j          0.24330068+0.j         -0.45072648+0.07986559j\n",
      "  -0.45072648-0.07986559j]]\n"
     ]
    }
   ],
   "source": [
    "print(D)\n",
    "print(P)"
   ]
  },
  {
   "cell_type": "code",
   "execution_count": 33,
   "id": "bibliographic-bosnia",
   "metadata": {
    "scrolled": true
   },
   "outputs": [
    {
     "name": "stdout",
     "output_type": "stream",
     "text": [
      "[[-6.31408179e-01+6.32962841e-32j -3.31339554e-01-1.91980912e-16j\n",
      "   4.91139910e-01-8.15670156e-18j -1.58986910e+00+2.11421860e-16j\n",
      "  -1.29008970e-01-7.24326437e-17j  1.98166125e+00-1.61044434e-16j\n",
      "  -1.50498195e+00+2.95017129e-17j]\n",
      " [ 7.22556009e-01-2.90360401e-32j  1.45662184e-02+6.51561972e-17j\n",
      "  -7.75823326e-02-8.37578517e-18j  2.70182468e-01+1.62487573e-16j\n",
      "   3.10218587e-01+3.97532510e-17j  7.50978181e-02-7.76389534e-17j\n",
      "  -5.44800698e-01+7.18633887e-18j]\n",
      " [-7.68253863e-02+3.75112754e-32j  4.60015332e-01+1.97607477e-17j\n",
      "  -7.45882831e-02-6.53034776e-18j -4.85022066e-01+3.65096247e-17j\n",
      "   1.29083719e-02+3.25634445e-17j -6.19262540e-01-6.20173766e-17j\n",
      "  -3.97518828e-01+1.79176952e-17j]\n",
      " [ 2.69111929e-01+3.81989355e-32j  6.61398815e-01-6.98461172e-17j\n",
      "  -1.82742727e-01+1.42969051e-17j  3.61041442e-02-4.24053890e-16j\n",
      "  -5.60679862e-01-4.51459961e-17j  3.45666788e-01+1.78045553e-16j\n",
      "   1.46916739e-01+1.56445768e-17j]\n",
      " [-3.02184397e-02+0.00000000e+00j  6.07858534e-02+1.45844262e-16j\n",
      "  -7.73808596e-01-1.82305327e-17j -2.60097317e-01+2.91688523e-16j\n",
      "   4.79491395e-01+1.45844262e-16j  1.99635539e-01-1.45844262e-16j\n",
      "   2.43300683e-01-0.00000000e+00j]\n",
      " [-2.34407118e-16+6.37977462e-16j  3.54399033e-01-1.40647410e+00j\n",
      "  -4.18642759e-01-1.45378162e-01j  1.29658101e+00-2.17812913e+00j\n",
      "   1.22670343e-01-1.14453865e+00j -1.10357495e+00+1.63294293e+00j\n",
      "   6.29833153e-01-1.52372648e+00j]\n",
      " [-2.34407118e-16-6.37977462e-16j  3.54399033e-01+1.40647410e+00j\n",
      "  -4.18642759e-01+1.45378162e-01j  1.29658101e+00+2.17812913e+00j\n",
      "   1.22670343e-01+1.14453865e+00j -1.10357495e+00-1.63294293e+00j\n",
      "   6.29833153e-01+1.52372648e+00j]]\n"
     ]
    }
   ],
   "source": [
    "PInv = np.linalg.inv(P)\n",
    "print(PInv)"
   ]
  },
  {
   "cell_type": "code",
   "execution_count": 34,
   "id": "twelve-bulgaria",
   "metadata": {
    "scrolled": true
   },
   "outputs": [
    {
     "data": {
      "text/html": [
       "<div>\n",
       "<style scoped>\n",
       "    .dataframe tbody tr th:only-of-type {\n",
       "        vertical-align: middle;\n",
       "    }\n",
       "\n",
       "    .dataframe tbody tr th {\n",
       "        vertical-align: top;\n",
       "    }\n",
       "\n",
       "    .dataframe thead th {\n",
       "        text-align: right;\n",
       "    }\n",
       "</style>\n",
       "<table border=\"1\" class=\"dataframe\">\n",
       "  <thead>\n",
       "    <tr style=\"text-align: right;\">\n",
       "      <th></th>\n",
       "      <th>0</th>\n",
       "      <th>1</th>\n",
       "      <th>2</th>\n",
       "      <th>3</th>\n",
       "      <th>4</th>\n",
       "      <th>5</th>\n",
       "      <th>6</th>\n",
       "    </tr>\n",
       "  </thead>\n",
       "  <tbody>\n",
       "    <tr>\n",
       "      <th>0</th>\n",
       "      <td>1.000000e+00-1.129455e-34j</td>\n",
       "      <td>-6.709852e-17+3.017348e-17j</td>\n",
       "      <td>3.402477e-17+3.260953e-18j</td>\n",
       "      <td>1.343023e-16+1.713619e-16j</td>\n",
       "      <td>4.857226e-17+5.121481e-17j</td>\n",
       "      <td>2.775558e-17+1.275733e-17j</td>\n",
       "      <td>-6.245005e-17+1.060148e-17j</td>\n",
       "    </tr>\n",
       "    <tr>\n",
       "      <th>1</th>\n",
       "      <td>-6.013646e-17+2.231089e-32j</td>\n",
       "      <td>1.000000e+00+1.858499e-18j</td>\n",
       "      <td>-1.315331e-17-8.223389e-18j</td>\n",
       "      <td>4.251810e-17-6.714359e-17j</td>\n",
       "      <td>5.551115e-17-7.722088e-18j</td>\n",
       "      <td>-1.110223e-16-3.809320e-17j</td>\n",
       "      <td>-5.551115e-17+6.579036e-17j</td>\n",
       "    </tr>\n",
       "    <tr>\n",
       "      <th>2</th>\n",
       "      <td>-3.915079e-18-2.418038e-32j</td>\n",
       "      <td>-1.497829e-17-1.368843e-16j</td>\n",
       "      <td>1.000000e+00+8.338403e-18j</td>\n",
       "      <td>-1.203161e-16+6.445574e-17j</td>\n",
       "      <td>5.551115e-17-1.261618e-16j</td>\n",
       "      <td>0.000000e+00-7.890602e-17j</td>\n",
       "      <td>-1.110223e-16+2.080928e-17j</td>\n",
       "    </tr>\n",
       "    <tr>\n",
       "      <th>3</th>\n",
       "      <td>2.549394e-17-6.070407e-32j</td>\n",
       "      <td>-1.737375e-16+3.802158e-17j</td>\n",
       "      <td>-1.892816e-17-3.932862e-18j</td>\n",
       "      <td>1.000000e+00-1.690448e-16j</td>\n",
       "      <td>-5.081014e-17-5.537878e-17j</td>\n",
       "      <td>2.073793e-16+1.140819e-16j</td>\n",
       "      <td>-3.105691e-16-3.644799e-17j</td>\n",
       "    </tr>\n",
       "    <tr>\n",
       "      <th>4</th>\n",
       "      <td>5.929633e-18-2.421005e-32j</td>\n",
       "      <td>5.443927e-17+1.399327e-16j</td>\n",
       "      <td>5.275585e-17-3.199432e-17j</td>\n",
       "      <td>4.571089e-16+7.279756e-16j</td>\n",
       "      <td>1.000000e+00+1.055412e-16j</td>\n",
       "      <td>-2.220446e-16-3.141208e-16j</td>\n",
       "      <td>3.330669e-16+4.289051e-17j</td>\n",
       "    </tr>\n",
       "    <tr>\n",
       "      <th>5</th>\n",
       "      <td>5.948965e-17-3.382846e-33j</td>\n",
       "      <td>-8.308926e-17-3.186907e-17j</td>\n",
       "      <td>-1.972952e-17+1.118028e-18j</td>\n",
       "      <td>6.915512e-19+9.483710e-18j</td>\n",
       "      <td>2.775558e-17-1.952689e-17j</td>\n",
       "      <td>1.000000e+00-1.265492e-17j</td>\n",
       "      <td>0.000000e+00+1.541304e-17j</td>\n",
       "    </tr>\n",
       "    <tr>\n",
       "      <th>6</th>\n",
       "      <td>-1.485624e-16+5.014452e-33j</td>\n",
       "      <td>0.000000e+00+4.130311e-17j</td>\n",
       "      <td>6.245005e-17+3.302071e-18j</td>\n",
       "      <td>5.551115e-17+2.849717e-17j</td>\n",
       "      <td>2.775558e-17-6.547747e-18j</td>\n",
       "      <td>-5.551115e-17-1.950752e-17j</td>\n",
       "      <td>1.000000e+00+1.309486e-17j</td>\n",
       "    </tr>\n",
       "  </tbody>\n",
       "</table>\n",
       "</div>"
      ],
      "text/plain": [
       "                            0                           1  \\\n",
       "0  1.000000e+00-1.129455e-34j -6.709852e-17+3.017348e-17j   \n",
       "1 -6.013646e-17+2.231089e-32j  1.000000e+00+1.858499e-18j   \n",
       "2 -3.915079e-18-2.418038e-32j -1.497829e-17-1.368843e-16j   \n",
       "3  2.549394e-17-6.070407e-32j -1.737375e-16+3.802158e-17j   \n",
       "4  5.929633e-18-2.421005e-32j  5.443927e-17+1.399327e-16j   \n",
       "5  5.948965e-17-3.382846e-33j -8.308926e-17-3.186907e-17j   \n",
       "6 -1.485624e-16+5.014452e-33j  0.000000e+00+4.130311e-17j   \n",
       "\n",
       "                            2                           3  \\\n",
       "0  3.402477e-17+3.260953e-18j  1.343023e-16+1.713619e-16j   \n",
       "1 -1.315331e-17-8.223389e-18j  4.251810e-17-6.714359e-17j   \n",
       "2  1.000000e+00+8.338403e-18j -1.203161e-16+6.445574e-17j   \n",
       "3 -1.892816e-17-3.932862e-18j  1.000000e+00-1.690448e-16j   \n",
       "4  5.275585e-17-3.199432e-17j  4.571089e-16+7.279756e-16j   \n",
       "5 -1.972952e-17+1.118028e-18j  6.915512e-19+9.483710e-18j   \n",
       "6  6.245005e-17+3.302071e-18j  5.551115e-17+2.849717e-17j   \n",
       "\n",
       "                            4                           5  \\\n",
       "0  4.857226e-17+5.121481e-17j  2.775558e-17+1.275733e-17j   \n",
       "1  5.551115e-17-7.722088e-18j -1.110223e-16-3.809320e-17j   \n",
       "2  5.551115e-17-1.261618e-16j  0.000000e+00-7.890602e-17j   \n",
       "3 -5.081014e-17-5.537878e-17j  2.073793e-16+1.140819e-16j   \n",
       "4  1.000000e+00+1.055412e-16j -2.220446e-16-3.141208e-16j   \n",
       "5  2.775558e-17-1.952689e-17j  1.000000e+00-1.265492e-17j   \n",
       "6  2.775558e-17-6.547747e-18j -5.551115e-17-1.950752e-17j   \n",
       "\n",
       "                            6  \n",
       "0 -6.245005e-17+1.060148e-17j  \n",
       "1 -5.551115e-17+6.579036e-17j  \n",
       "2 -1.110223e-16+2.080928e-17j  \n",
       "3 -3.105691e-16-3.644799e-17j  \n",
       "4  3.330669e-16+4.289051e-17j  \n",
       "5  0.000000e+00+1.541304e-17j  \n",
       "6  1.000000e+00+1.309486e-17j  "
      ]
     },
     "execution_count": 34,
     "metadata": {},
     "output_type": "execute_result"
    }
   ],
   "source": [
    "pd.DataFrame(P.dot(PInv))"
   ]
  },
  {
   "cell_type": "code",
   "execution_count": 35,
   "id": "mechanical-surrey",
   "metadata": {
    "scrolled": false
   },
   "outputs": [
    {
     "name": "stdout",
     "output_type": "stream",
     "text": [
      "                            0\n",
      "0  3.552714e-15+0.000000e+00j\n",
      "1  2.423185e+01+0.000000e+00j\n",
      "2  2.365343e+02+0.000000e+00j\n",
      "3  1.524356e+02+0.000000e+00j\n",
      "4  1.239982e+02+0.000000e+00j\n",
      "5 -2.001720e-15+1.691422e-15j\n",
      "6 -2.001720e-15-1.691422e-15j\n"
     ]
    }
   ],
   "source": [
    "D=pd.DataFrame(D)\n",
    "print(D)"
   ]
  },
  {
   "cell_type": "code",
   "execution_count": 40,
   "id": "verbal-potter",
   "metadata": {
    "scrolled": true
   },
   "outputs": [
    {
     "name": "stdout",
     "output_type": "stream",
     "text": [
      "                    0                   1                   2  \\\n",
      "0 -0.631408+0.000000j  0.722556+0.000000j -0.076825+0.000000j   \n",
      "1  0.239683+0.000000j  0.014566+0.000000j  0.460015+0.000000j   \n",
      "2 -0.120560+0.000000j -0.077582+0.000000j -0.074588+0.000000j   \n",
      "3  0.396035+0.000000j  0.270182+0.000000j -0.485022+0.000000j   \n",
      "4  0.091515+0.000000j  0.310219+0.000000j  0.012908+0.000000j   \n",
      "5  0.299058+0.000000j  0.075098+0.000000j -0.619263+0.000000j   \n",
      "6 -0.524106+0.000000j -0.544801+0.000000j -0.397519+0.000000j   \n",
      "\n",
      "                    3                   4                   5  \\\n",
      "0  0.269112+0.000000j -0.030218+0.000000j -0.465103-0.010979j   \n",
      "1  0.661399+0.000000j  0.060786+0.000000j -0.045629+0.163099j   \n",
      "2 -0.182743+0.000000j -0.773809+0.000000j -0.437719+0.168383j   \n",
      "3  0.036104+0.000000j -0.260097+0.000000j  0.482980+0.000000j   \n",
      "4 -0.560680+0.000000j  0.479491+0.000000j -0.232043+0.187001j   \n",
      "5  0.345667+0.000000j  0.199636+0.000000j -0.017260+0.054868j   \n",
      "6  0.146917+0.000000j  0.243301+0.000000j -0.450726+0.079866j   \n",
      "\n",
      "                    6  \n",
      "0 -0.465103+0.010979j  \n",
      "1 -0.045629-0.163099j  \n",
      "2 -0.437719-0.168383j  \n",
      "3  0.482980-0.000000j  \n",
      "4 -0.232043-0.187001j  \n",
      "5 -0.017260-0.054868j  \n",
      "6 -0.450726-0.079866j  \n"
     ]
    }
   ],
   "source": [
    "P=pd.DataFrame(P)\n",
    "print(P)"
   ]
  },
  {
   "cell_type": "code",
   "execution_count": 58,
   "id": "outside-basket",
   "metadata": {},
   "outputs": [
    {
     "name": "stdout",
     "output_type": "stream",
     "text": [
      "                    0                   1                   2  \\\n",
      "0 -0.631408+0.000000j  0.722556+0.000000j -0.076825+0.000000j   \n",
      "1  0.239683+0.000000j  0.014566+0.000000j  0.460015+0.000000j   \n",
      "2 -0.120560+0.000000j -0.077582+0.000000j -0.074588+0.000000j   \n",
      "3  0.396035+0.000000j  0.270182+0.000000j -0.485022+0.000000j   \n",
      "4  0.091515+0.000000j  0.310219+0.000000j  0.012908+0.000000j   \n",
      "5  0.299058+0.000000j  0.075098+0.000000j -0.619263+0.000000j   \n",
      "6 -0.524106+0.000000j -0.544801+0.000000j -0.397519+0.000000j   \n",
      "\n",
      "                    3                   4                   5  \\\n",
      "0  0.269112+0.000000j -0.030218+0.000000j -0.465103-0.010979j   \n",
      "1  0.661399+0.000000j  0.060786+0.000000j -0.045629+0.163099j   \n",
      "2 -0.182743+0.000000j -0.773809+0.000000j -0.437719+0.168383j   \n",
      "3  0.036104+0.000000j -0.260097+0.000000j  0.482980+0.000000j   \n",
      "4 -0.560680+0.000000j  0.479491+0.000000j -0.232043+0.187001j   \n",
      "5  0.345667+0.000000j  0.199636+0.000000j -0.017260+0.054868j   \n",
      "6  0.146917+0.000000j  0.243301+0.000000j -0.450726+0.079866j   \n",
      "\n",
      "                    6  \n",
      "0 -0.465103+0.010979j  \n",
      "1 -0.045629-0.163099j  \n",
      "2 -0.437719-0.168383j  \n",
      "3  0.482980-0.000000j  \n",
      "4 -0.232043-0.187001j  \n",
      "5 -0.017260-0.054868j  \n",
      "6 -0.450726-0.079866j  \n"
     ]
    }
   ],
   "source": [
    "PT =P.T\n",
    "PT['Eigen_values'] = D\n",
    "PTSorted = PT.sort_values(by='Eigen_values', axis=0, ascending=False)\n",
    "Pstar = PT.T\n",
    "Pstar.drop('Eigen_values', axis=0, inplace=True)\n",
    "print(Pstar)"
   ]
  },
  {
   "cell_type": "code",
   "execution_count": 59,
   "id": "suspended-south",
   "metadata": {},
   "outputs": [
    {
     "name": "stdout",
     "output_type": "stream",
     "text": [
      "Take the eigenvalues λ₁, λ₂, …, λp and sort them from largest to smallest. In doing so, sort the eigenvectors in P accordingly. (For example, if λ₂ is the largest eigenvalue, then take the second column of P and place it in the first column position.) Depending on the computing package, this may be done automatically. Call this sorted matrix of eigenvectors P*. (The columns of P* should be the same as the columns of P, but perhaps in a different order.) Note that these eigenvectors are independent of one another.\n"
     ]
    }
   ],
   "source": [
    "print('Take the eigenvalues λ₁, λ₂, …, λp and sort them from largest to smallest. In doing so, sort the eigenvectors in P accordingly. (For example, if λ₂ is the largest eigenvalue, then take the second column of P and place it in the first column position.) Depending on the computing package, this may be done automatically. Call this sorted matrix of eigenvectors P*. (The columns of P* should be the same as the columns of P, but perhaps in a different order.) Note that these eigenvectors are independent of one another.')"
   ]
  },
  {
   "cell_type": "code",
   "execution_count": 60,
   "id": "fleet-memory",
   "metadata": {},
   "outputs": [
    {
     "name": "stdout",
     "output_type": "stream",
     "text": [
      "                            0\n",
      "0  3.552714e-15+0.000000e+00j\n",
      "   2.423185e+01+0.000000e+00j\n",
      "   2.365343e+02+0.000000e+00j\n",
      "   1.524356e+02+0.000000e+00j\n",
      "   1.239982e+02+0.000000e+00j\n",
      "  -2.001720e-15+1.691422e-15j\n",
      "  -2.001720e-15-1.691422e-15j\n"
     ]
    }
   ],
   "source": [
    "DSorted = D.sort_values(by=0, axis=1, ignore_index=True)\n",
    "print(DSorted)"
   ]
  },
  {
   "cell_type": "code",
   "execution_count": 61,
   "id": "demonstrated-jerusalem",
   "metadata": {},
   "outputs": [
    {
     "name": "stdout",
     "output_type": "stream",
     "text": [
      "                            0\n",
      "0 -2.001720e-15-1.691422e-15j\n",
      "  -2.001720e-15+1.691422e-15j\n",
      "   1.239982e+02+0.000000e+00j\n",
      "   1.524356e+02+0.000000e+00j\n",
      "   2.365343e+02+0.000000e+00j\n",
      "   2.423185e+01+0.000000e+00j\n",
      "   3.552714e-15+0.000000e+00j\n"
     ]
    }
   ],
   "source": [
    "DescendingD = DSorted[::-1]\n",
    "print(DescendingD)"
   ]
  },
  {
   "cell_type": "code",
   "execution_count": 63,
   "id": "directed-supervision",
   "metadata": {},
   "outputs": [
    {
     "name": "stdout",
     "output_type": "stream",
     "text": [
      "                            0                   1                    2  \\\n",
      "0 -8.025379e-17+0.000000e+00j -2.929980+0.000000j  -4.178302+0.000000j   \n",
      "1 -2.189678e-15+0.000000e+00j -0.882731+0.000000j  -3.548705+0.000000j   \n",
      "2  5.858800e-16+0.000000e+00j -1.064057+0.000000j   4.557318+0.000000j   \n",
      "3  4.249616e-15+0.000000e+00j  1.478123+0.000000j  11.089849+0.000000j   \n",
      "4 -3.743990e-15+0.000000e+00j  3.398645+0.000000j  -7.920159+0.000000j   \n",
      "\n",
      "                    3                   4                           5  \\\n",
      "0 -0.033943+0.000000j -6.790866+0.000000j -8.834794e-16+6.821688e-16j   \n",
      "1  7.313431+0.000000j  6.715743+0.000000j -4.393902e-16-7.056100e-16j   \n",
      "2 -8.706582+0.000000j  4.566625+0.000000j -4.393902e-16+5.989021e-16j   \n",
      "3  4.039601+0.000000j -3.205000+0.000000j  2.447190e-15+7.154612e-17j   \n",
      "4 -2.612508+0.000000j -1.286503+0.000000j -3.436992e-15+2.935907e-16j   \n",
      "\n",
      "                            6  \n",
      "0 -8.834794e-16-6.821688e-16j  \n",
      "1 -4.393902e-16+7.056100e-16j  \n",
      "2 -4.393902e-16-5.989021e-16j  \n",
      "3  2.447190e-15-7.154612e-17j  \n",
      "4 -3.436992e-15-2.935907e-16j  \n"
     ]
    }
   ],
   "source": [
    "zstar= z.dot(Pstar)\n",
    "print(zstar)"
   ]
  },
  {
   "cell_type": "code",
   "execution_count": 67,
   "id": "liked-smart",
   "metadata": {},
   "outputs": [
    {
     "name": "stderr",
     "output_type": "stream",
     "text": [
      "c:\\users\\prathmun\\appdata\\local\\programs\\python\\python39\\lib\\site-packages\\numpy\\core\\_asarray.py:102: ComplexWarning: Casting complex values to real discards the imaginary part\n",
      "  return array(a, dtype, copy=False, order=order)\n"
     ]
    },
    {
     "data": {
      "image/png": "[encoded data removed]",
      "text/plain": [
       "<Figure size 432x288 with 1 Axes>"
      ]
     },
     "metadata": {
      "needs_background": "light"
     },
     "output_type": "display_data"
    }
   ],
   "source": [
    "plt.plot(zstar[0], zstar[1])\n",
    "plt.show()"
   ]
  }
 ],
 "metadata": {
  "kernelspec": {
   "display_name": "Python 3",
   "language": "python",
   "name": "python3"
  },
  "language_info": {
   "codemirror_mode": {
    "name": "ipython",
    "version": 3
   },
   "file_extension": ".py",
   "mimetype": "text/x-python",
   "name": "python",
   "nbconvert_exporter": "python",
   "pygments_lexer": "ipython3",
   "version": "3.9.1"
  }
 },
 "nbformat": 4,
 "nbformat_minor": 5
}
